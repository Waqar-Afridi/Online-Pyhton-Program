{
 "cells": [
  {
   "cell_type": "code",
   "execution_count": 5,
   "metadata": {},
   "outputs": [],
   "source": [
    "# Assignment No 3 of Kamyab jawan "
   ]
  },
  {
   "cell_type": "code",
   "execution_count": 4,
   "metadata": {},
   "outputs": [
    {
     "name": "stdout",
     "output_type": "stream",
     "text": [
      "Twinkle,twinkle,little start,\n",
      "\t How I wonder what you are!\n",
      "\t\t Up above the world so high,\n",
      "\t\t Like a diamond in the sky.\n",
      "Twinkle,twinkle,little start,\n",
      "\t How I wonder what you are!\n"
     ]
    }
   ],
   "source": [
    "# Question 1\n",
    "print(\"Twinkle,twinkle,little start,\")\n",
    "print(\"\\t How I wonder what you are!\")\n",
    "print(\"\\t\\t Up above the world so high,\")\n",
    "print(\"\\t\\t Like a diamond in the sky.\")\n",
    "print(\"Twinkle,twinkle,little start,\")\n",
    "print(\"\\t How I wonder what you are!\")"
   ]
  },
  {
   "cell_type": "code",
   "execution_count": 3,
   "metadata": {},
   "outputs": [
    {
     "name": "stdout",
     "output_type": "stream",
     "text": [
      "3.8.5 (default, Sep  3 2020, 21:29:08) [MSC v.1916 64 bit (AMD64)]\n"
     ]
    }
   ],
   "source": [
    "# Question 2\n",
    "import sys\n",
    "print(sys.version)"
   ]
  },
  {
   "cell_type": "code",
   "execution_count": 2,
   "metadata": {},
   "outputs": [
    {
     "name": "stdout",
     "output_type": "stream",
     "text": [
      "The Current Date and Time is : \n",
      "2021-10-23 08:47:17.088068\n"
     ]
    }
   ],
   "source": [
    "# Question 3\n",
    "import datetime\n",
    "now = datetime.datetime.now()\n",
    "print(\"The Current Date and Time is : \")\n",
    "print(str(now))"
   ]
  },
  {
   "cell_type": "code",
   "execution_count": 1,
   "metadata": {},
   "outputs": [
    {
     "name": "stdout",
     "output_type": "stream",
     "text": [
      "Enter the radius of the circle: 67\n",
      "Radius: 67.0\n",
      "Area =  210.4872\n"
     ]
    }
   ],
   "source": [
    "# Question 4\n",
    "r = float(input(\"Enter the radius of the circle: \"))\n",
    "area =( 3.1416 * r)\n",
    "print(\"Radius:\", r)\n",
    "print(\"Area = \", area)"
   ]
  },
  {
   "cell_type": "code",
   "execution_count": 6,
   "metadata": {},
   "outputs": [
    {
     "name": "stdout",
     "output_type": "stream",
     "text": [
      "Input your First Name : waqar\n",
      "Input your Last Name : afridi\n",
      "Hello afridi waqar\n"
     ]
    }
   ],
   "source": [
    "# Question 5\n",
    "fname = input(\"Input your First Name : \")\n",
    "\n",
    "lname = input(\"Input your Last Name : \")\n",
    "\n",
    "print (\"Hello \" + lname + \" \" + fname)\n",
    "# we used thid concept also [: : -1]"
   ]
  },
  {
   "cell_type": "code",
   "execution_count": 8,
   "metadata": {},
   "outputs": [
    {
     "name": "stdout",
     "output_type": "stream",
     "text": [
      "enter first number: 4\n",
      "enter second number: 5\n",
      "sum: 9\n"
     ]
    }
   ],
   "source": [
    "# Question 6\n",
    "a = int(input(\"enter first number: \"))\n",
    "b = int(input(\"enter second number: \"))\n",
    "sum = a + b\n",
    "print(\"sum:\", sum)"
   ]
  },
  {
   "cell_type": "code",
   "execution_count": 13,
   "metadata": {},
   "outputs": [
    {
     "name": "stdout",
     "output_type": "stream",
     "text": [
      "Enter the marks out of 100 : 70\n",
      "Enter the marks out of 100 : 80\n",
      "Enter the marks out of 100 : 90\n",
      "Enter the marks out of 100 : 70\n",
      "Enter the marks out of 100 : 80\n",
      "Grade: C\n",
      "The total mark is  390 out of 500.\n",
      "Percentage is  78.0 %.\n"
     ]
    }
   ],
   "source": [
    "# Question 7\n",
    "a = int(input(\"Enter the marks out of 100 : \"))\n",
    "\n",
    "b = int(input(\"Enter the marks out of 100 : \"))\n",
    "\n",
    "c = int(input(\"Enter the marks out of 100 : \"))\n",
    "\n",
    "d = int(input(\"Enter the marks out of 100 : \"))\n",
    "\n",
    "e = int(input(\"Enter the marks out of 100 : \"))\n",
    "#Then I'll add all the variables\n",
    "\n",
    "total = a+ b + c + d + e\n",
    "#Finding the percentage\n",
    "\n",
    "percent = total/500*100\n",
    "#Printing the total and percent variable.\n",
    "\n",
    "if(percent>=90):\n",
    "    print(\"Grade: A\")\n",
    "elif percent>=80 and percent<90:\n",
    "    print(\"Grade: B\")\n",
    "elif percent>=70 and percent<80:\n",
    "    print(\"Grade: C\")\n",
    "elif percent>=60 and percent<70:\n",
    "    print(\"Grade: D\")\n",
    "else:\n",
    "    print(\"Grade: F\")\n",
    "\n",
    "print(\"The total mark is \", total, \"out of 500.\")\n",
    "\n",
    "print(\"Percentage is \", percent, \"%.\")\n"
   ]
  },
  {
   "cell_type": "code",
   "execution_count": 14,
   "metadata": {},
   "outputs": [
    {
     "name": "stdout",
     "output_type": "stream",
     "text": [
      "Enter a number: 78\n",
      "78 is Even\n"
     ]
    }
   ],
   "source": [
    "# Question 8\n",
    "num = int(input(\"Enter a number: \"))\n",
    "if (num % 2) == 0:\n",
    "   print(\"{0} is Even\".format(num))\n",
    "else:\n",
    "   print(\"{0} is Odd\".format(num))"
   ]
  },
  {
   "cell_type": "code",
   "execution_count": 19,
   "metadata": {},
   "outputs": [
    {
     "name": "stdout",
     "output_type": "stream",
     "text": [
      "The length of List is : 10\n"
     ]
    }
   ],
   "source": [
    "# Question 9\n",
    "studentGrades = [9.1, 8.8, 10.0, 7.7, 6.8, 8.0, 10.0, 8.1, 10.0, 9.9]\n",
    "print( \"The length of List is :\",len(studentGrades))\n",
    "\n"
   ]
  },
  {
   "cell_type": "code",
   "execution_count": null,
   "metadata": {},
   "outputs": [],
   "source": [
    "# Question 10\n",
    "listt = [1, 2, 3]\n",
    "print(sum(listt))"
   ]
  },
  {
   "cell_type": "code",
   "execution_count": 27,
   "metadata": {},
   "outputs": [
    {
     "name": "stdout",
     "output_type": "stream",
     "text": [
      "Largest element is: 99\n"
     ]
    }
   ],
   "source": [
    "# Question 11\n",
    "# list of numbers\n",
    "list1 = [10, 20, 4, 45, 99]\n",
    "print(\"Largest element is:\", max(list1))"
   ]
  },
  {
   "cell_type": "code",
   "execution_count": 28,
   "metadata": {},
   "outputs": [
    {
     "name": "stdout",
     "output_type": "stream",
     "text": [
      "1\n",
      "1\n",
      "2\n",
      "3\n"
     ]
    }
   ],
   "source": [
    "# Question 12\n",
    "a = [1, 1, 2, 3, 5, 8, 13, 21, 34, 55, 89]\n",
    "for i in a:\n",
    "    if i < 5:\n",
    "        print(i)"
   ]
  }
 ],
 "metadata": {
  "kernelspec": {
   "display_name": "Python 3",
   "language": "python",
   "name": "python3"
  },
  "language_info": {
   "codemirror_mode": {
    "name": "ipython",
    "version": 3
   },
   "file_extension": ".py",
   "mimetype": "text/x-python",
   "name": "python",
   "nbconvert_exporter": "python",
   "pygments_lexer": "ipython3",
   "version": "3.8.5"
  }
 },
 "nbformat": 4,
 "nbformat_minor": 4
}
