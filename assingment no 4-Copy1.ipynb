{
 "cells": [
  {
   "cell_type": "code",
   "execution_count": 62,
   "metadata": {},
   "outputs": [
    {
     "name": "stdout",
     "output_type": "stream",
     "text": [
      "Enter the first number: 5\n",
      "Enter the second number: 2\n",
      "Enter the operator you want to perform\n",
      "Enter any of these operator for operation +, -, *, /,exponent  **\n",
      "5 ** 2 :  25\n"
     ]
    }
   ],
   "source": [
    "#Python program to perform Addition, Subtraction,\n",
    "#Multiplication and division of two numbers\n",
    "num1=int(input(\"Enter the first number: \"))\n",
    "num2=int(input(\"Enter the second number: \"))\n",
    "print(\"Enter the operator you want to perform\");\n",
    "ch=input(\"Enter any of these operator for operation +, -, *, /,exponent  \")\n",
    "result=0\n",
    "if ch=='+':\n",
    "    result=num1+num2;\n",
    "elif ch=='-':\n",
    "    result=num1-num2;\n",
    "elif ch=='*':\n",
    "    result=num1*num2;\n",
    "elif ch=='/':\n",
    "    result=num1/num2;\n",
    "elif ch=='**':\n",
    "    result=num1**num2;\n",
    "else:\n",
    "   print(\"char is not supported\");\n",
    "print(num1,ch,num2,\": \",result)"
   ]
  },
  {
   "cell_type": "code",
   "execution_count": 63,
   "metadata": {},
   "outputs": [
    {
     "name": "stdout",
     "output_type": "stream",
     "text": [
      "there are many numeric value : 9\n",
      "there are many values : 0\n"
     ]
    }
   ],
   "source": [
    "# Write a program to check if there is any numeric value in list using for loop.\n",
    "numbers = [1, 2, 3, 4, 5, 6, 7, 8, 9] # Declaring the list\n",
    "count_number = 0\n",
    "count_others = 0\n",
    "for x in numbers:\n",
    "        if x >= 0:\n",
    "            count_number+=1\n",
    "        else:\n",
    "            count_others+=1\n",
    "print(\"there are many numeric value :\",count_number)\n",
    "print(\"there are many values :\",count_others)"
   ]
  },
  {
   "cell_type": "code",
   "execution_count": 64,
   "metadata": {},
   "outputs": [
    {
     "name": "stdout",
     "output_type": "stream",
     "text": [
      "{0: 10, 1: 20}\n",
      "{0: 10, 1: 20, 2: 30}\n"
     ]
    }
   ],
   "source": [
    "# Write a Python script to add a key to a dictionary.\n",
    "d = {0:10, 1:20}\n",
    "print(d)\n",
    "d.update({2:30})\n",
    "print(d)\n"
   ]
  },
  {
   "cell_type": "code",
   "execution_count": 68,
   "metadata": {},
   "outputs": [
    {
     "name": "stdout",
     "output_type": "stream",
     "text": [
      "447\n"
     ]
    }
   ],
   "source": [
    "# Write a Python program to sum all the numeric items in a dictionary.\n",
    "my_dict = {'1':100,'2':100,'3':247}\n",
    "print(sum(my_dict.values()))\n"
   ]
  },
  {
   "cell_type": "code",
   "execution_count": 72,
   "metadata": {},
   "outputs": [
    {
     "name": "stdout",
     "output_type": "stream",
     "text": [
      "Duplicate values:  [4, 5, 1]\n",
      "Unique Values:  [1, 2, 3, 4, 5, 6]\n"
     ]
    }
   ],
   "source": [
    "# Write a program to identify duplicate values from list.\n",
    "\n",
    "finddup = [1, 2, 3, 4, 4, 5, 5, 6, 1]\n",
    " \n",
    " \n",
    "def dup(x):\n",
    "    duplicate = []\n",
    "    unique = []\n",
    "    for i in x:\n",
    "        if i in unique:\n",
    "            duplicate.append(i)\n",
    "        else:\n",
    "            unique.append(i)\n",
    "    print(\"Duplicate values: \", duplicate)\n",
    "    print(\"Unique Values: \", unique)\n",
    " \n",
    " \n",
    "dup(finddup)"
   ]
  },
  {
   "cell_type": "code",
   "execution_count": 75,
   "metadata": {},
   "outputs": [
    {
     "name": "stdout",
     "output_type": "stream",
     "text": [
      "Key is present in the dictionary\n",
      "Key is not present in the dictionary\n"
     ]
    }
   ],
   "source": [
    "# Write a Python script to check if a given key already exists in a dictionary\n",
    "d = {1: 10, 2: 20, 3: 30, 4: 40, 5: 50, 6: 60}\n",
    "def is_key_present(x):\n",
    "  if x in d:\n",
    "      print('Key is present in the dictionary')\n",
    "  else:\n",
    "      print('Key is not present in the dictionary')\n",
    "is_key_present(5)\n",
    "is_key_present(9)\n"
   ]
  }
 ],
 "metadata": {
  "kernelspec": {
   "display_name": "Python 3",
   "language": "python",
   "name": "python3"
  },
  "language_info": {
   "codemirror_mode": {
    "name": "ipython",
    "version": 3
   },
   "file_extension": ".py",
   "mimetype": "text/x-python",
   "name": "python",
   "nbconvert_exporter": "python",
   "pygments_lexer": "ipython3",
   "version": "3.8.5"
  }
 },
 "nbformat": 4,
 "nbformat_minor": 4
}
